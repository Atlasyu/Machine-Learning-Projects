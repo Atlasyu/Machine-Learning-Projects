{
 "cells": [
  {
   "cell_type": "markdown",
   "metadata": {},
   "source": [
    "1. Manhattan Distance\n",
    "2. Euclidean Distance\n",
    "3. Minkowski Distance\n",
    "4. Pearson Correlation Coefficient\n",
    "5. Cosine Similarity\n",
    "6. K-nearest neighbor"
   ]
  },
  {
   "cell_type": "markdown",
   "metadata": {},
   "source": [
    "If the data is subject to grade-inflation (different users may be using different scales) use Pearson.\n",
    "\n",
    "If your data is dense (almost all attributes have nonzero values) and the magnitude of the attribute values is important, use distance measures such as Euclidean or Manhattan.\n",
    "\n",
    "If the data is sparse consider using Cosine Similarity."
   ]
  },
  {
   "cell_type": "code",
   "execution_count": 1,
   "metadata": {
    "collapsed": true
   },
   "outputs": [],
   "source": [
    "import pandas as pd\n",
    "import numpy as np"
   ]
  },
  {
   "cell_type": "code",
   "execution_count": 2,
   "metadata": {},
   "outputs": [
    {
     "data": {
      "text/html": [
       "<div>\n",
       "<style>\n",
       "    .dataframe thead tr:only-child th {\n",
       "        text-align: right;\n",
       "    }\n",
       "\n",
       "    .dataframe thead th {\n",
       "        text-align: left;\n",
       "    }\n",
       "\n",
       "    .dataframe tbody tr th {\n",
       "        vertical-align: top;\n",
       "    }\n",
       "</style>\n",
       "<table border=\"1\" class=\"dataframe\">\n",
       "  <thead>\n",
       "    <tr style=\"text-align: right;\">\n",
       "      <th></th>\n",
       "      <th>Patrick C</th>\n",
       "      <th>Heather</th>\n",
       "      <th>Bryan</th>\n",
       "      <th>Patrick T</th>\n",
       "      <th>Thomas</th>\n",
       "      <th>aaron</th>\n",
       "      <th>vanessa</th>\n",
       "      <th>greg</th>\n",
       "      <th>brian</th>\n",
       "      <th>ben</th>\n",
       "      <th>...</th>\n",
       "      <th>Zak</th>\n",
       "      <th>Matt</th>\n",
       "      <th>Chris.1</th>\n",
       "      <th>Josh</th>\n",
       "      <th>Amy</th>\n",
       "      <th>Valerie</th>\n",
       "      <th>Gary</th>\n",
       "      <th>Stephen</th>\n",
       "      <th>Jessica</th>\n",
       "      <th>Jeff</th>\n",
       "    </tr>\n",
       "  </thead>\n",
       "  <tbody>\n",
       "    <tr>\n",
       "      <th>Alien</th>\n",
       "      <td>NaN</td>\n",
       "      <td>NaN</td>\n",
       "      <td>2.0</td>\n",
       "      <td>NaN</td>\n",
       "      <td>5.0</td>\n",
       "      <td>4.0</td>\n",
       "      <td>NaN</td>\n",
       "      <td>NaN</td>\n",
       "      <td>4.0</td>\n",
       "      <td>NaN</td>\n",
       "      <td>...</td>\n",
       "      <td>NaN</td>\n",
       "      <td>NaN</td>\n",
       "      <td>4.0</td>\n",
       "      <td>3.0</td>\n",
       "      <td>NaN</td>\n",
       "      <td>NaN</td>\n",
       "      <td>2.0</td>\n",
       "      <td>5.0</td>\n",
       "      <td>NaN</td>\n",
       "      <td>4.0</td>\n",
       "    </tr>\n",
       "    <tr>\n",
       "      <th>Avatar</th>\n",
       "      <td>4.0</td>\n",
       "      <td>5.0</td>\n",
       "      <td>5.0</td>\n",
       "      <td>4.0</td>\n",
       "      <td>2.0</td>\n",
       "      <td>NaN</td>\n",
       "      <td>4.0</td>\n",
       "      <td>3.0</td>\n",
       "      <td>NaN</td>\n",
       "      <td>3.0</td>\n",
       "      <td>...</td>\n",
       "      <td>5.0</td>\n",
       "      <td>NaN</td>\n",
       "      <td>NaN</td>\n",
       "      <td>4.0</td>\n",
       "      <td>3.0</td>\n",
       "      <td>2.0</td>\n",
       "      <td>1.0</td>\n",
       "      <td>4.0</td>\n",
       "      <td>NaN</td>\n",
       "      <td>4.0</td>\n",
       "    </tr>\n",
       "    <tr>\n",
       "      <th>Blade Runner</th>\n",
       "      <td>5.0</td>\n",
       "      <td>NaN</td>\n",
       "      <td>NaN</td>\n",
       "      <td>NaN</td>\n",
       "      <td>5.0</td>\n",
       "      <td>4.0</td>\n",
       "      <td>NaN</td>\n",
       "      <td>1.0</td>\n",
       "      <td>5.0</td>\n",
       "      <td>5.0</td>\n",
       "      <td>...</td>\n",
       "      <td>NaN</td>\n",
       "      <td>NaN</td>\n",
       "      <td>3.0</td>\n",
       "      <td>NaN</td>\n",
       "      <td>3.0</td>\n",
       "      <td>3.0</td>\n",
       "      <td>1.0</td>\n",
       "      <td>NaN</td>\n",
       "      <td>NaN</td>\n",
       "      <td>5.0</td>\n",
       "    </tr>\n",
       "    <tr>\n",
       "      <th>Braveheart</th>\n",
       "      <td>4.0</td>\n",
       "      <td>NaN</td>\n",
       "      <td>5.0</td>\n",
       "      <td>NaN</td>\n",
       "      <td>4.0</td>\n",
       "      <td>4.0</td>\n",
       "      <td>3.0</td>\n",
       "      <td>4.0</td>\n",
       "      <td>4.0</td>\n",
       "      <td>NaN</td>\n",
       "      <td>...</td>\n",
       "      <td>5.0</td>\n",
       "      <td>NaN</td>\n",
       "      <td>4.0</td>\n",
       "      <td>NaN</td>\n",
       "      <td>3.0</td>\n",
       "      <td>4.0</td>\n",
       "      <td>5.0</td>\n",
       "      <td>5.0</td>\n",
       "      <td>NaN</td>\n",
       "      <td>4.0</td>\n",
       "    </tr>\n",
       "    <tr>\n",
       "      <th>Dodgeball</th>\n",
       "      <td>5.0</td>\n",
       "      <td>4.0</td>\n",
       "      <td>3.0</td>\n",
       "      <td>2.0</td>\n",
       "      <td>4.0</td>\n",
       "      <td>NaN</td>\n",
       "      <td>4.0</td>\n",
       "      <td>5.0</td>\n",
       "      <td>3.0</td>\n",
       "      <td>4.0</td>\n",
       "      <td>...</td>\n",
       "      <td>3.0</td>\n",
       "      <td>NaN</td>\n",
       "      <td>3.0</td>\n",
       "      <td>NaN</td>\n",
       "      <td>4.0</td>\n",
       "      <td>3.0</td>\n",
       "      <td>4.0</td>\n",
       "      <td>3.0</td>\n",
       "      <td>NaN</td>\n",
       "      <td>3.0</td>\n",
       "    </tr>\n",
       "  </tbody>\n",
       "</table>\n",
       "<p>5 rows × 25 columns</p>\n",
       "</div>"
      ],
      "text/plain": [
       "              Patrick C  Heather  Bryan  Patrick T  Thomas  aaron  vanessa  \\\n",
       "Alien               NaN      NaN    2.0        NaN     5.0    4.0      NaN   \n",
       "Avatar              4.0      5.0    5.0        4.0     2.0    NaN      4.0   \n",
       "Blade Runner        5.0      NaN    NaN        NaN     5.0    4.0      NaN   \n",
       "Braveheart          4.0      NaN    5.0        NaN     4.0    4.0      3.0   \n",
       "Dodgeball           5.0      4.0    3.0        2.0     4.0    NaN      4.0   \n",
       "\n",
       "              greg  brian  ben  ...   Zak  Matt  Chris.1  Josh  Amy  Valerie  \\\n",
       "Alien          NaN    4.0  NaN  ...   NaN   NaN      4.0   3.0  NaN      NaN   \n",
       "Avatar         3.0    NaN  3.0  ...   5.0   NaN      NaN   4.0  3.0      2.0   \n",
       "Blade Runner   1.0    5.0  5.0  ...   NaN   NaN      3.0   NaN  3.0      3.0   \n",
       "Braveheart     4.0    4.0  NaN  ...   5.0   NaN      4.0   NaN  3.0      4.0   \n",
       "Dodgeball      5.0    3.0  4.0  ...   3.0   NaN      3.0   NaN  4.0      3.0   \n",
       "\n",
       "              Gary  Stephen  Jessica  Jeff  \n",
       "Alien          2.0      5.0      NaN   4.0  \n",
       "Avatar         1.0      4.0      NaN   4.0  \n",
       "Blade Runner   1.0      NaN      NaN   5.0  \n",
       "Braveheart     5.0      5.0      NaN   4.0  \n",
       "Dodgeball      4.0      3.0      NaN   3.0  \n",
       "\n",
       "[5 rows x 25 columns]"
      ]
     },
     "execution_count": 2,
     "metadata": {},
     "output_type": "execute_result"
    }
   ],
   "source": [
    "df = pd.read_csv('Movie_Ratings.csv',index_col=0)\n",
    "df.head()"
   ]
  },
  {
   "cell_type": "code",
   "execution_count": 3,
   "metadata": {
    "collapsed": true
   },
   "outputs": [],
   "source": [
    "users = {\n",
    " \"Angelica\": {\"Blues Traveler\": 3.5, \"Broken Bells\": 2.0,\"Norah Jones\": 4.5, \"Phoenix\": 5.0,\"Slightly Stoopid\": 1.5,\"The Strokes\": 2.5, \"Vampire Weekend\": 2.0},\n",
    " \"Bill\": {\"Blues Traveler\": 2.0, \"Broken Bells\": 3.5,\n",
    " \"Deadmau5\": 4.0, \"Phoenix\": 2.0,\n",
    " \"Slightly Stoopid\": 3.5, \"Vampire Weekend\": 3.0},\n",
    " \"Chan\": {\"Blues Traveler\": 5.0, \"Broken Bells\": 1.0,\n",
    " \"Deadmau5\": 1.0, \"Norah Jones\": 3.0,\n",
    " \"Phoenix\": 5, \"Slightly Stoopid\": 1.0},\n",
    " \"Dan\": {\"Blues Traveler\": 3.0, \"Broken Bells\": 4.0,\n",
    " \"Deadmau5\": 4.5, \"Phoenix\": 3.0,\n",
    " \"Slightly Stoopid\": 4.5, \"The Strokes\": 4.0,\n",
    " \"Vampire Weekend\": 2.0},\n",
    " \"Hailey\": {\"Broken Bells\": 4.0, \"Deadmau5\": 1.0,\n",
    " \"Norah Jones\": 4.0, \"The Strokes\": 4.0,\n",
    " \"Vampire Weekend\": 1.0},\n",
    " \"Jordyn\": {\"Broken Bells\": 4.5, \"Deadmau5\": 4.0, \"Norah Jones\": 5.0,\n",
    " \"Phoenix\": 5.0, \"Slightly Stoopid\": 4.5,\n",
    " \"The Strokes\": 4.0, \"Vampire Weekend\": 4.0},\n",
    " \"Sam\": {\"Blues Traveler\": 5.0, \"Broken Bells\": 2.0,\n",
    " \"Norah Jones\": 3.0, \"Phoenix\": 5.0,\n",
    " \"Slightly Stoopid\": 4.0, \"The Strokes\": 5.0},\n",
    " \"Veronica\": {\"Blues Traveler\": 3.0, \"Norah Jones\": 5.0,\n",
    " \"Phoenix\": 4.0, \"Slightly Stoopid\": 2.5,\n",
    " \"The Strokes\": 3.0}}"
   ]
  },
  {
   "cell_type": "code",
   "execution_count": 4,
   "metadata": {
    "scrolled": true
   },
   "outputs": [
    {
     "data": {
      "text/plain": [
       "({'Blues Traveler': 2.0,\n",
       "  'Broken Bells': 3.5,\n",
       "  'Deadmau5': 4.0,\n",
       "  'Phoenix': 2.0,\n",
       "  'Slightly Stoopid': 3.5,\n",
       "  'Vampire Weekend': 3.0},\n",
       " {'Blues Traveler': 3.0,\n",
       "  'Norah Jones': 5.0,\n",
       "  'Phoenix': 4.0,\n",
       "  'Slightly Stoopid': 2.5,\n",
       "  'The Strokes': 3.0})"
      ]
     },
     "execution_count": 4,
     "metadata": {},
     "output_type": "execute_result"
    }
   ],
   "source": [
    "users['Bill'], users['Veronica']"
   ]
  },
  {
   "cell_type": "markdown",
   "metadata": {},
   "source": [
    "## Manhattan distance"
   ]
  },
  {
   "cell_type": "code",
   "execution_count": 5,
   "metadata": {
    "collapsed": true
   },
   "outputs": [],
   "source": [
    "def Manhattan(rating1, rating2):\n",
    "    distance = 0\n",
    "    for key in rating1:\n",
    "        if key in rating2:\n",
    "            distance += abs(rating1[key] - rating2[key])\n",
    "    return distance"
   ]
  },
  {
   "cell_type": "markdown",
   "metadata": {},
   "source": [
    "## Minkowski distance"
   ]
  },
  {
   "cell_type": "code",
   "execution_count": 6,
   "metadata": {},
   "outputs": [
    {
     "data": {
      "text/plain": [
       "3"
      ]
     },
     "execution_count": 6,
     "metadata": {},
     "output_type": "execute_result"
    }
   ],
   "source": [
    "set1 = set(users['Bill'])\n",
    "set2 = set(users['Veronica'])\n",
    "\n",
    "len(set1.intersection(set2))"
   ]
  },
  {
   "cell_type": "code",
   "execution_count": 7,
   "metadata": {
    "collapsed": true
   },
   "outputs": [],
   "source": [
    "from math import pow\n",
    "def Minkowski(ratings1, ratings2):\n",
    "    k=len(set(ratings1).intersection(ratings2))\n",
    "    distance=0\n",
    "    for key in ratings1:\n",
    "        if key in ratings2:\n",
    "            distance += pow(abs(ratings1[key] - ratings2[key]),k)\n",
    "    distance = pow(distance, 1/k)\n",
    "    return distance   "
   ]
  },
  {
   "cell_type": "code",
   "execution_count": 8,
   "metadata": {},
   "outputs": [
    {
     "data": {
      "text/plain": [
       "2.154434690031884"
      ]
     },
     "execution_count": 8,
     "metadata": {},
     "output_type": "execute_result"
    }
   ],
   "source": [
    "Minkowski(users['Bill'],users['Veronica'])"
   ]
  },
  {
   "cell_type": "markdown",
   "metadata": {},
   "source": [
    "## Wrong one, the power shouldn't change as the dimensions increase. No such assumption"
   ]
  },
  {
   "cell_type": "code",
   "execution_count": 9,
   "metadata": {
    "collapsed": true
   },
   "outputs": [],
   "source": [
    "# Minkowski\n",
    "def computeNearestNeighbor_Minkowski(username, list_of_users):\n",
    "    distances=[]\n",
    "    commonRatings = False\n",
    "    for user in list_of_users:\n",
    "        if user != username:\n",
    "            distances.append((user,Minkowski(users[user],users[username])))\n",
    "            commonRatings = True\n",
    "    distances.sort(key = lambda i: i[1])\n",
    "    if commonRatings:\n",
    "        return distances \n",
    "    else:\n",
    "        return o"
   ]
  },
  {
   "cell_type": "code",
   "execution_count": 10,
   "metadata": {},
   "outputs": [
    {
     "data": {
      "text/plain": [
       "[('Dan', 1.2615562572094132),\n",
       " ('Veronica', 2.154434690031884),\n",
       " ('Jordyn', 3.0073710962592606),\n",
       " ('Angelica', 3.110531083202846),\n",
       " ('Hailey', 3.274955810059687),\n",
       " ('Sam', 3.595508792069336),\n",
       " ('Chan', 3.91889624337133)]"
      ]
     },
     "execution_count": 10,
     "metadata": {},
     "output_type": "execute_result"
    }
   ],
   "source": [
    "computeNearestNeighbor_Minkowski('Bill',users)"
   ]
  },
  {
   "cell_type": "markdown",
   "metadata": {},
   "source": [
    "This seems to skew our distance measurement, since the Hailey-Veronica distance is in 2 dimensions while the Hailey-Jordyn distance is in 5 dimensions. Manhattan Distance and Euclidean Distance work best when\n",
    "there are no missing values."
   ]
  },
  {
   "cell_type": "code",
   "execution_count": 11,
   "metadata": {
    "collapsed": true
   },
   "outputs": [],
   "source": [
    "# Manhattan\n",
    "def computeNearestNeighbor_Manhattan(username, list_of_users):\n",
    "    distances=[]\n",
    "    for user in list_of_users:\n",
    "        if user != username:\n",
    "            distances.append((user,Manhattan(users[user],users[username])))\n",
    "    distances.sort(key = lambda i: i[1])\n",
    "    return distances     "
   ]
  },
  {
   "cell_type": "code",
   "execution_count": 12,
   "metadata": {},
   "outputs": [
    {
     "data": {
      "text/plain": [
       "[('Veronica', 2.0),\n",
       " ('Chan', 4.0),\n",
       " ('Sam', 4.0),\n",
       " ('Dan', 4.5),\n",
       " ('Angelica', 5.0),\n",
       " ('Bill', 5.5),\n",
       " ('Jordyn', 7.5)]"
      ]
     },
     "execution_count": 12,
     "metadata": {},
     "output_type": "execute_result"
    }
   ],
   "source": [
    "computeNearestNeighbor_Manhattan(\"Hailey\", users)"
   ]
  },
  {
   "cell_type": "code",
   "execution_count": 13,
   "metadata": {
    "collapsed": true
   },
   "outputs": [],
   "source": [
    "# Minkowski\n",
    "def recommend(username,list_of_users):\n",
    "    recommend=[]\n",
    "    nearestneighbor = computeNearestNeighbor_Minkowski(username,list_of_users)[0][0]\n",
    "    list_from_username = users[username]\n",
    "    list_from_nearestneighbor = users[nearestneighbor]\n",
    "    for item in list_from_nearestneighbor:\n",
    "        if item not in list_from_username:\n",
    "            recommend.append((item,list_from_nearestneighbor[item]))\n",
    "    return sorted(recommend, key=lambda i:i[1], reverse=True)"
   ]
  },
  {
   "cell_type": "code",
   "execution_count": 14,
   "metadata": {},
   "outputs": [
    {
     "data": {
      "text/plain": [
       "[('Phoenix', 4.0), ('Blues Traveler', 3.0), ('Slightly Stoopid', 2.5)]"
      ]
     },
     "execution_count": 14,
     "metadata": {},
     "output_type": "execute_result"
    }
   ],
   "source": [
    "recommend('Hailey',users)"
   ]
  },
  {
   "cell_type": "markdown",
   "metadata": {},
   "source": [
    "## Pearson Correlation Coefficient"
   ]
  },
  {
   "cell_type": "code",
   "execution_count": 15,
   "metadata": {
    "collapsed": true
   },
   "outputs": [],
   "source": [
    "from math import pow, sqrt\n",
    "def Pearson(ratings1, ratings2):\n",
    "    sum_x=0\n",
    "    sum_y=0\n",
    "    sum_xy= 0\n",
    "    sum_x_sqr = 0\n",
    "    sum_y_sqr = 0\n",
    "    n = 0\n",
    "    for key in ratings1:\n",
    "        if key in ratings2:\n",
    "            n += 1\n",
    "            x = ratings1[key]\n",
    "            y = ratings2[key]\n",
    "            sum_x += x\n",
    "            sum_y += y\n",
    "            sum_xy += x*y\n",
    "            sum_x_sqr += pow(x,2)\n",
    "            sum_y_sqr += pow(y,2)\n",
    "    if n == 0:\n",
    "        return 0\n",
    "    denominator = sqrt((sum_x_sqr-pow(sum_x,2)/n)*(sum_y_sqr-pow(sum_y,2)/n))\n",
    "    if denominator == 0:\n",
    "        return 0\n",
    "    else:\n",
    "        return (sum_xy - sum_x*sum_y/n)/denominator"
   ]
  },
  {
   "cell_type": "code",
   "execution_count": 16,
   "metadata": {},
   "outputs": [
    {
     "data": {
      "text/plain": [
       "0.42008402520840293"
      ]
     },
     "execution_count": 16,
     "metadata": {},
     "output_type": "execute_result"
    }
   ],
   "source": [
    "Pearson(users['Angelica'], users['Hailey'])"
   ]
  },
  {
   "cell_type": "code",
   "execution_count": 17,
   "metadata": {
    "collapsed": true
   },
   "outputs": [],
   "source": [
    "# Pearson\n",
    "def computeNearestNeighbor_Pearson(username, list_of_users):\n",
    "    distances=[]\n",
    "    for user in list_of_users:\n",
    "        if user != username:\n",
    "            distances.append((user,Pearson(users[user],users[username])))\n",
    "    distances.sort(key = lambda i: i[1],reverse=True)\n",
    "    return distances"
   ]
  },
  {
   "cell_type": "code",
   "execution_count": 18,
   "metadata": {},
   "outputs": [
    {
     "data": {
      "text/plain": [
       "[('Veronica', 0.829385976226374),\n",
       " ('Chan', 0.8197822947299414),\n",
       " ('Jordyn', 0.7639748605475432),\n",
       " ('Hailey', 0.42008402520840293),\n",
       " ('Sam', 0.2818672605010608),\n",
       " ('Dan', -0.35794101106274595),\n",
       " ('Bill', -0.9040534990682699)]"
      ]
     },
     "execution_count": 18,
     "metadata": {},
     "output_type": "execute_result"
    }
   ],
   "source": [
    "computeNearestNeighbor_Pearson('Angelica',users)"
   ]
  },
  {
   "cell_type": "markdown",
   "metadata": {},
   "source": [
    "## Incorporate K-nearest neighbor"
   ]
  },
  {
   "cell_type": "code",
   "execution_count": 46,
   "metadata": {
    "collapsed": true
   },
   "outputs": [],
   "source": [
    "def recommend(username,list_of_users, n):\n",
    "    recommendations={}\n",
    "    total = 0\n",
    "    nearestneighbor = computeNearestNeighbor_Pearson(username,list_of_users)\n",
    "    userRatings = users[username]\n",
    "    print(userRatings)\n",
    "    for i in range(n):\n",
    "        total += nearestneighbor[i][1]\n",
    "    for i in range(n):\n",
    "        weight = nearestneighbor[i][1]/total\n",
    "        name = nearestneighbor[i][0]\n",
    "        neighborRatings = users[name]\n",
    "        print(neighborRatings)\n",
    "        for artist in neighborRatings:\n",
    "            if artist not in userRatings:\n",
    "                if artist not in recommendations:\n",
    "                    recommendations[artist] = (neighborRatings[artist] * weight)\n",
    "                else:\n",
    "                    recommendations[artist] = (recommendations[artist] + neighborRatings[artist]*weight)\n",
    "    #recommendations = list(recommendations.items())\n",
    "    #recommendations.sort(key=lambda i:i[1], reverse=True)\n",
    "    return recommendations"
   ]
  },
  {
   "cell_type": "code",
   "execution_count": 47,
   "metadata": {
    "scrolled": false
   },
   "outputs": [
    {
     "name": "stdout",
     "output_type": "stream",
     "text": [
      "{'Broken Bells': 4.0, 'Deadmau5': 1.0, 'Norah Jones': 4.0, 'The Strokes': 4.0, 'Vampire Weekend': 1.0}\n",
      "{'Broken Bells': 4.5, 'Deadmau5': 4.0, 'Norah Jones': 5.0, 'Phoenix': 5.0, 'Slightly Stoopid': 4.5, 'The Strokes': 4.0, 'Vampire Weekend': 4.0}\n"
     ]
    }
   ],
   "source": [
    "r = recommend('Hailey',users,1)"
   ]
  },
  {
   "cell_type": "code",
   "execution_count": 52,
   "metadata": {},
   "outputs": [
    {
     "data": {
      "text/html": [
       "<div>\n",
       "<style>\n",
       "    .dataframe thead tr:only-child th {\n",
       "        text-align: right;\n",
       "    }\n",
       "\n",
       "    .dataframe thead th {\n",
       "        text-align: left;\n",
       "    }\n",
       "\n",
       "    .dataframe tbody tr th {\n",
       "        vertical-align: top;\n",
       "    }\n",
       "</style>\n",
       "<table border=\"1\" class=\"dataframe\">\n",
       "  <thead>\n",
       "    <tr style=\"text-align: right;\">\n",
       "      <th></th>\n",
       "      <th>key_col</th>\n",
       "      <th>val_col</th>\n",
       "    </tr>\n",
       "  </thead>\n",
       "  <tbody>\n",
       "    <tr>\n",
       "      <th>0</th>\n",
       "      <td>Phoenix</td>\n",
       "      <td>5.0</td>\n",
       "    </tr>\n",
       "    <tr>\n",
       "      <th>1</th>\n",
       "      <td>Slightly Stoopid</td>\n",
       "      <td>4.5</td>\n",
       "    </tr>\n",
       "  </tbody>\n",
       "</table>\n",
       "</div>"
      ],
      "text/plain": [
       "            key_col  val_col\n",
       "0           Phoenix      5.0\n",
       "1  Slightly Stoopid      4.5"
      ]
     },
     "execution_count": 52,
     "metadata": {},
     "output_type": "execute_result"
    }
   ],
   "source": [
    "pd.DataFrame([[key,value] for key,value in r.items()],columns=[\"key_col\",\"val_col\"]).sort_values(by='val_col',ascending=False)"
   ]
  },
  {
   "cell_type": "markdown",
   "metadata": {},
   "source": [
    "## Cosine Similarity"
   ]
  },
  {
   "cell_type": "code",
   "execution_count": 21,
   "metadata": {
    "collapsed": true
   },
   "outputs": [],
   "source": [
    "from math import pow, sqrt\n",
    "def Cosine(ratings1, ratings2):\n",
    "    sum_xy= 0\n",
    "    sum_x_sqr = 0\n",
    "    sum_y_sqr = 0\n",
    "    for key in ratings1:\n",
    "        x = ratings1[key]\n",
    "        sum_x_sqr += pow(x,2)\n",
    "        if key in ratings2:\n",
    "            x = ratings1[key]\n",
    "            y = ratings2[key]\n",
    "            sum_xy += x*y\n",
    "    for key in ratings2:\n",
    "        y = ratings2[key]\n",
    "        sum_y_sqr += pow(y,2)\n",
    "    return sum_xy/sqrt((sum_x_sqr*sum_y_sqr))"
   ]
  },
  {
   "cell_type": "code",
   "execution_count": 22,
   "metadata": {},
   "outputs": [
    {
     "data": {
      "text/plain": [
       "0.9246279432210068"
      ]
     },
     "execution_count": 22,
     "metadata": {},
     "output_type": "execute_result"
    }
   ],
   "source": [
    "Cosine(users['Angelica'], users['Veronica'])"
   ]
  },
  {
   "cell_type": "code",
   "execution_count": 23,
   "metadata": {
    "collapsed": true
   },
   "outputs": [],
   "source": [
    "# Pearson\n",
    "def computeNearestNeighbor_Cosine(username, list_of_users):\n",
    "    distances=[]\n",
    "    for user in list_of_users:\n",
    "        if user != username:\n",
    "            distances.append((user,Cosine(users[user],users[username])))\n",
    "    distances.sort(key = lambda i: i[1],reverse=True)\n",
    "    return distances"
   ]
  },
  {
   "cell_type": "code",
   "execution_count": 24,
   "metadata": {},
   "outputs": [
    {
     "data": {
      "text/plain": [
       "[('Veronica', 0.9246279432210068),\n",
       " ('Sam', 0.8948229769530731),\n",
       " ('Chan', 0.8784261605942703),\n",
       " ('Jordyn', 0.8025694479618785),\n",
       " ('Dan', 0.6487359696813167),\n",
       " ('Hailey', 0.6247161517603577),\n",
       " ('Bill', 0.540392532615596)]"
      ]
     },
     "execution_count": 24,
     "metadata": {},
     "output_type": "execute_result"
    }
   ],
   "source": [
    "computeNearestNeighbor_Cosine('Angelica', users)"
   ]
  },
  {
   "cell_type": "code",
   "execution_count": null,
   "metadata": {
    "collapsed": true
   },
   "outputs": [],
   "source": []
  }
 ],
 "metadata": {
  "kernelspec": {
   "display_name": "Python 3",
   "language": "python",
   "name": "python3"
  },
  "language_info": {
   "codemirror_mode": {
    "name": "ipython",
    "version": 3
   },
   "file_extension": ".py",
   "mimetype": "text/x-python",
   "name": "python",
   "nbconvert_exporter": "python",
   "pygments_lexer": "ipython3",
   "version": "3.6.1"
  }
 },
 "nbformat": 4,
 "nbformat_minor": 2
}
