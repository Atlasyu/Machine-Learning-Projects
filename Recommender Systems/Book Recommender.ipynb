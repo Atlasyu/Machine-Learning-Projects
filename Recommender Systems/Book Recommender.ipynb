{
 "cells": [
  {
   "cell_type": "code",
   "execution_count": 1,
   "metadata": {
    "collapsed": true
   },
   "outputs": [],
   "source": [
    "import pandas as pd\n",
    "import numpy as np\n",
    "from math import pow, sqrt"
   ]
  },
  {
   "cell_type": "markdown",
   "metadata": {},
   "source": [
    "## Read the books file to grab the book-title"
   ]
  },
  {
   "cell_type": "code",
   "execution_count": 2,
   "metadata": {},
   "outputs": [
    {
     "name": "stderr",
     "output_type": "stream",
     "text": [
      "C:\\Anaconda3\\lib\\site-packages\\IPython\\core\\interactiveshell.py:2717: DtypeWarning: Columns (3) have mixed types. Specify dtype option on import or set low_memory=False.\n",
      "  interactivity=interactivity, compiler=compiler, result=result)\n"
     ]
    }
   ],
   "source": [
    "books = pd.read_csv('BX-Books.csv',sep=';',names=['ISBN','Book-Title','Book-Author','Year-Of-Publication','Publisher','Image-URL-S','Image-URL-M','Image-URL-L'])"
   ]
  },
  {
   "cell_type": "code",
   "execution_count": 3,
   "metadata": {
    "collapsed": true
   },
   "outputs": [],
   "source": [
    "def read_file_into_dictionary():\n",
    "    data = {}\n",
    "    i = 0\n",
    "    f = open(\"BX-Book-Ratings.csv\", encoding='utf8')\n",
    "    for line in f:\n",
    "        i += 1\n",
    "        fields = line.split(';')\n",
    "        user = fields[0].strip('\"')\n",
    "        book = fields[1].strip('\"')\n",
    "        rating = int(fields[2].strip().strip('\"'))\n",
    "        if user in data:\n",
    "            currentRatings = data[user]\n",
    "        else:\n",
    "            currentRatings = {}\n",
    "        currentRatings[book] = rating\n",
    "        data[user] = currentRatings\n",
    "    return data\n",
    "    f.close()"
   ]
  },
  {
   "cell_type": "code",
   "execution_count": 4,
   "metadata": {
    "collapsed": true
   },
   "outputs": [],
   "source": [
    "ratings = read_file_into_dictionary()"
   ]
  },
  {
   "cell_type": "markdown",
   "metadata": {},
   "source": [
    "## Data is sparse, Cosine Similarity"
   ]
  },
  {
   "cell_type": "code",
   "execution_count": 5,
   "metadata": {
    "collapsed": true
   },
   "outputs": [],
   "source": [
    "def Cosine(ratings1, ratings2):\n",
    "    sum_xy= 0\n",
    "    sum_x_sqr = 0\n",
    "    sum_y_sqr = 0\n",
    "    for key in ratings1:\n",
    "        x = ratings1[key]\n",
    "        sum_x_sqr += pow(x,2)\n",
    "        if key in ratings2:\n",
    "            x = ratings1[key]\n",
    "            y = ratings2[key]\n",
    "            sum_xy += x*y\n",
    "    for key in ratings2:\n",
    "        y = ratings2[key]\n",
    "        sum_y_sqr += pow(y,2)\n",
    "    if sqrt((sum_x_sqr*sum_y_sqr)) !=0:\n",
    "        return sum_xy/sqrt((sum_x_sqr*sum_y_sqr))\n",
    "    else:\n",
    "        return 0"
   ]
  },
  {
   "cell_type": "code",
   "execution_count": 6,
   "metadata": {
    "collapsed": true
   },
   "outputs": [],
   "source": [
    "def NearestNeighbor_Cosine(username, dataset):\n",
    "    distances=[]\n",
    "    for user in dataset:\n",
    "        if user != username:\n",
    "            distances.append((user,Cosine(dataset[user],dataset[username])))\n",
    "    distances.sort(key = lambda i: i[1],reverse=True)\n",
    "    return distances"
   ]
  },
  {
   "cell_type": "code",
   "execution_count": 7,
   "metadata": {
    "collapsed": true
   },
   "outputs": [],
   "source": [
    "def recommend(username, dataset, n_of_neighbor):\n",
    "    recommendations={}\n",
    "    total = 0\n",
    "    nearestneighbor = NearestNeighbor_Cosine(username,dataset)\n",
    "    userRatings = dataset[username]\n",
    "    for i in range(n_of_neighbor):\n",
    "        total += nearestneighbor[i][1]\n",
    "    if total !=0:\n",
    "        for i in range(n_of_neighbor):\n",
    "            weight = nearestneighbor[i][1]/total\n",
    "            name = nearestneighbor[i][0]\n",
    "            neighborRatings = dataset[name]\n",
    "            for artist in neighborRatings:\n",
    "                if artist not in userRatings:\n",
    "                    if artist not in recommendations:\n",
    "                        recommendations[artist] = (neighborRatings[artist] * weight)\n",
    "                    else:\n",
    "                        recommendations[artist] = (recommendations[artist] + neighborRatings[artist]*weight)\n",
    "    \n",
    "    # Convert ISBN into book-title\n",
    "    df = pd.DataFrame([[key,value] for key,value in recommendations.items()],columns=[\"ISBN\",\"Recommend_rating\"])\n",
    "    df = pd.merge(df,books,how='left',on='ISBN').sort_values(by=['Recommend_rating'],ascending=False)['Book-Title']\n",
    "    df.index = np.arange(1, len(df) + 1)\n",
    "    if len(df) > 10:\n",
    "        df = df[:10]\n",
    "    return df"
   ]
  },
  {
   "cell_type": "code",
   "execution_count": 8,
   "metadata": {},
   "outputs": [
    {
     "data": {
      "text/plain": [
       "1       Divine Secrets of the Ya-Ya Sisterhood: A Novel\n",
       "2                               Standing in the Rainbow\n",
       "3                                      Sex and the City\n",
       "4                        Mommie Dearest : Joan Crawford\n",
       "5                 Heal Thyself for Health and Longevity\n",
       "6     Kitchen Confidential: Adventures in the Culina...\n",
       "7                                    The Night Listener\n",
       "8                                     Portrait in Death\n",
       "9                                        Sophies Choice\n",
       "10                                            Outlander\n",
       "Name: Book-Title, dtype: object"
      ]
     },
     "execution_count": 8,
     "metadata": {},
     "output_type": "execute_result"
    }
   ],
   "source": [
    "# the third number is the # of neighbour to include in the calculation\n",
    "recommend('276747',ratings,20)"
   ]
  }
 ],
 "metadata": {
  "kernelspec": {
   "display_name": "Python 3",
   "language": "python",
   "name": "python3"
  },
  "language_info": {
   "codemirror_mode": {
    "name": "ipython",
    "version": 3
   },
   "file_extension": ".py",
   "mimetype": "text/x-python",
   "name": "python",
   "nbconvert_exporter": "python",
   "pygments_lexer": "ipython3",
   "version": "3.6.1"
  }
 },
 "nbformat": 4,
 "nbformat_minor": 2
}
