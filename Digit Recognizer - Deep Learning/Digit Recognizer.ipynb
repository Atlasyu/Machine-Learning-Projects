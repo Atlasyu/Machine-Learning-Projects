{
 "cells": [
  {
   "cell_type": "markdown",
   "metadata": {},
   "source": [
    "## Keras is a minimalist library on top of deep learning models - in this case the backend is Tensorflow.\n",
    "\n",
    "I'm a newbie to deep learning. And this is my first attempt - the deep learning hello world project."
   ]
  },
  {
   "cell_type": "code",
   "execution_count": 1,
   "metadata": {},
   "outputs": [
    {
     "name": "stderr",
     "output_type": "stream",
     "text": [
      "Using TensorFlow backend.\n"
     ]
    }
   ],
   "source": [
    "import numpy as np\n",
    "import pandas as pd\n",
    "\n",
    "from keras.models import Sequential\n",
    "from keras.layers import Dense\n",
    "from keras.wrappers.scikit_learn import KerasClassifier\n",
    "from keras.utils import np_utils\n",
    "from keras import optimizers\n",
    "\n",
    "#from sklearn.model_selection import cross_val_score\n",
    "from sklearn.preprocessing import StandardScaler\n",
    "\n",
    "np.random.seed(10)"
   ]
  },
  {
   "cell_type": "code",
   "execution_count": 2,
   "metadata": {
    "collapsed": true
   },
   "outputs": [],
   "source": [
    "train = pd.read_csv('train.csv')\n",
    "test = pd.read_csv('test.csv')"
   ]
  },
  {
   "cell_type": "code",
   "execution_count": 3,
   "metadata": {},
   "outputs": [],
   "source": [
    "X_train = train.iloc[:,1:].values.astype('float32')\n",
    "Y_train = train.iloc[:,:1].values.astype('int32')\n",
    "X_test = test.values.astype('float32')"
   ]
  },
  {
   "cell_type": "code",
   "execution_count": 4,
   "metadata": {
    "collapsed": true
   },
   "outputs": [],
   "source": [
    "# One hot encoding, creating dummies\n",
    "Y_train = np_utils.to_categorical(Y_train) "
   ]
  },
  {
   "cell_type": "code",
   "execution_count": 5,
   "metadata": {
    "collapsed": true
   },
   "outputs": [],
   "source": [
    "# Data preparation, rescale data, prepare for training and predicting\n",
    "scaler = StandardScaler()"
   ]
  },
  {
   "cell_type": "code",
   "execution_count": 6,
   "metadata": {},
   "outputs": [],
   "source": [
    "X_train = scaler.fit_transform(X_train)\n",
    "X_test = scaler.fit_transform(X_test)"
   ]
  },
  {
   "cell_type": "code",
   "execution_count": 7,
   "metadata": {},
   "outputs": [
    {
     "data": {
      "text/plain": [
       "(42000, 784)"
      ]
     },
     "execution_count": 7,
     "metadata": {},
     "output_type": "execute_result"
    }
   ],
   "source": [
    "X_train.shape"
   ]
  },
  {
   "cell_type": "markdown",
   "metadata": {},
   "source": [
    "## Keras Deep Learning\n",
    "\n",
    "* Three layers\n",
    "* Optimizers - try a random one, works like a charm"
   ]
  },
  {
   "cell_type": "code",
   "execution_count": 8,
   "metadata": {
    "scrolled": false
   },
   "outputs": [
    {
     "name": "stdout",
     "output_type": "stream",
     "text": [
      "Train on 33600 samples, validate on 8400 samples\n",
      "Epoch 1/10\n",
      "33600/33600 [==============================] - 11s - loss: 0.2829 - acc: 0.9204 - val_loss: 0.1748 - val_acc: 0.9538\n",
      "Epoch 2/10\n",
      "33600/33600 [==============================] - 10s - loss: 0.1158 - acc: 0.9663 - val_loss: 0.1474 - val_acc: 0.9582\n",
      "Epoch 3/10\n",
      "33600/33600 [==============================] - 10s - loss: 0.0770 - acc: 0.9782 - val_loss: 0.1418 - val_acc: 0.9607\n",
      "Epoch 4/10\n",
      "33600/33600 [==============================] - 10s - loss: 0.0598 - acc: 0.9834 - val_loss: 0.1377 - val_acc: 0.9630\n",
      "Epoch 5/10\n",
      "33600/33600 [==============================] - 10s - loss: 0.0504 - acc: 0.9869 - val_loss: 0.1405 - val_acc: 0.9627\n",
      "Epoch 6/10\n",
      "33600/33600 [==============================] - 10s - loss: 0.0444 - acc: 0.9891 - val_loss: 0.1401 - val_acc: 0.9630\n",
      "Epoch 7/10\n",
      "33600/33600 [==============================] - 10s - loss: 0.0403 - acc: 0.9904 - val_loss: 0.1405 - val_acc: 0.9620\n",
      "Epoch 8/10\n",
      "33600/33600 [==============================] - 10s - loss: 0.0370 - acc: 0.9918 - val_loss: 0.1416 - val_acc: 0.9635\n",
      "Epoch 9/10\n",
      "33600/33600 [==============================] - 9s - loss: 0.0346 - acc: 0.9926 - val_loss: 0.1423 - val_acc: 0.9637\n",
      "Epoch 10/10\n",
      "33600/33600 [==============================] - 10s - loss: 0.0324 - acc: 0.9934 - val_loss: 0.1423 - val_acc: 0.9632\n"
     ]
    },
    {
     "data": {
      "text/plain": [
       "<keras.callbacks.History at 0x118a2eb70>"
      ]
     },
     "execution_count": 8,
     "metadata": {},
     "output_type": "execute_result"
    }
   ],
   "source": [
    "model = Sequential()\n",
    "model.add(Dense(120, input_dim=784, activation = 'relu'))\n",
    "model.add(Dense(30, activation = 'relu'))\n",
    "model.add(Dense(10, activation = 'softmax'))\n",
    "sgd = optimizers.SGD(lr=0.01, decay=0.0005, momentum=0.8, nesterov=False)\n",
    "model.compile(loss='categorical_crossentropy', optimizer=sgd, metrics=['accuracy']) \n",
    "model.fit(X_train, Y_train, epochs=10, batch_size=5, validation_split=0.2, verbose=1)"
   ]
  },
  {
   "cell_type": "markdown",
   "metadata": {},
   "source": [
    "## Use predict_classes instead of predict"
   ]
  },
  {
   "cell_type": "code",
   "execution_count": 9,
   "metadata": {},
   "outputs": [
    {
     "name": "stdout",
     "output_type": "stream",
     "text": [
      "24576/28000 [=========================>....] - ETA: 0s"
     ]
    }
   ],
   "source": [
    "Test_labels = model.predict_classes(X_test)"
   ]
  },
  {
   "cell_type": "code",
   "execution_count": 10,
   "metadata": {},
   "outputs": [
    {
     "data": {
      "text/plain": [
       "(28000, 784)"
      ]
     },
     "execution_count": 10,
     "metadata": {},
     "output_type": "execute_result"
    }
   ],
   "source": [
    "X_test.shape"
   ]
  },
  {
   "cell_type": "code",
   "execution_count": 11,
   "metadata": {},
   "outputs": [],
   "source": [
    "df = pd.DataFrame({'ImageId':list(range(1,28001)),'Label':Test_labels})"
   ]
  },
  {
   "cell_type": "code",
   "execution_count": 12,
   "metadata": {},
   "outputs": [],
   "source": [
    "df.to_csv('submission.csv',index=False)"
   ]
  },
  {
   "cell_type": "markdown",
   "metadata": {},
   "source": [
    "<img src=\"score.png\" />"
   ]
  },
  {
   "cell_type": "markdown",
   "metadata": {},
   "source": [
    "## Sklearn Learn Keras Wrapper\n",
    "\n",
    "Same deal:\n",
    "* Three layers\n",
    "* Modify the optimizer"
   ]
  },
  {
   "cell_type": "code",
   "execution_count": 13,
   "metadata": {},
   "outputs": [
    {
     "name": "stdout",
     "output_type": "stream",
     "text": [
      "Train on 33600 samples, validate on 8400 samples\n",
      "Epoch 1/10\n",
      "33600/33600 [==============================] - 10s - loss: 0.2782 - acc: 0.9218 - val_loss: 0.1733 - val_acc: 0.9512\n",
      "Epoch 2/10\n",
      "33600/33600 [==============================] - 10s - loss: 0.1128 - acc: 0.9682 - val_loss: 0.1466 - val_acc: 0.9574\n",
      "Epoch 3/10\n",
      "33600/33600 [==============================] - 10s - loss: 0.0741 - acc: 0.9793 - val_loss: 0.1435 - val_acc: 0.9583\n",
      "Epoch 4/10\n",
      "33600/33600 [==============================] - 10s - loss: 0.0589 - acc: 0.9848 - val_loss: 0.1378 - val_acc: 0.9611\n",
      "Epoch 5/10\n",
      "33600/33600 [==============================] - 10s - loss: 0.0504 - acc: 0.9885 - val_loss: 0.1413 - val_acc: 0.9613\n",
      "Epoch 6/10\n",
      "33600/33600 [==============================] - 10s - loss: 0.0450 - acc: 0.9904 - val_loss: 0.1411 - val_acc: 0.9605\n",
      "Epoch 7/10\n",
      "33600/33600 [==============================] - 10s - loss: 0.0413 - acc: 0.9916 - val_loss: 0.1414 - val_acc: 0.9624\n",
      "Epoch 8/10\n",
      "33600/33600 [==============================] - 10s - loss: 0.0386 - acc: 0.9924 - val_loss: 0.1411 - val_acc: 0.9625\n",
      "Epoch 9/10\n",
      "33600/33600 [==============================] - 9s - loss: 0.0362 - acc: 0.9930 - val_loss: 0.1431 - val_acc: 0.9625\n",
      "Epoch 10/10\n",
      "33600/33600 [==============================] - 10s - loss: 0.0345 - acc: 0.9937 - val_loss: 0.1427 - val_acc: 0.9624\n"
     ]
    },
    {
     "data": {
      "text/plain": [
       "<keras.callbacks.History at 0x12e6a8a20>"
      ]
     },
     "execution_count": 13,
     "metadata": {},
     "output_type": "execute_result"
    }
   ],
   "source": [
    "def my_model():\n",
    "    model = Sequential()\n",
    "    model.add(Dense(120, input_dim=784, activation='relu'))\n",
    "    model.add(Dense(30, activation = 'relu'))\n",
    "    model.add(Dense(10, activation='softmax'))\n",
    "    sgd = optimizers.SGD(lr=0.01, decay=0.0005, momentum=0.8, nesterov=False)\n",
    "    model.compile(loss='categorical_crossentropy', optimizer=sgd, metrics=['accuracy']) \n",
    "    return model\n",
    "estimator = KerasClassifier(build_fn=my_model)\n",
    "estimator.fit(X_train, Y_train, epochs=10, batch_size=5, validation_split=0.2, verbose=1)"
   ]
  }
 ],
 "metadata": {
  "kernelspec": {
   "display_name": "Python 3",
   "language": "python",
   "name": "python3"
  },
  "language_info": {
   "codemirror_mode": {
    "name": "ipython",
    "version": 3
   },
   "file_extension": ".py",
   "mimetype": "text/x-python",
   "name": "python",
   "nbconvert_exporter": "python",
   "pygments_lexer": "ipython3",
   "version": "3.6.1"
  }
 },
 "nbformat": 4,
 "nbformat_minor": 2
}
