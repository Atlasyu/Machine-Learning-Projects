{
 "cells": [
  {
   "cell_type": "markdown",
   "metadata": {},
   "source": [
    "### Titanic: Machine Learning from Disaster is a fairly easy machine learning project. 101 level. \n",
    "\n",
    "### However, it's very difficult to pass the 80 mark in the LeaderBoard. The challenge here is to get past 80.\n",
    "\n",
    "### Initially, I tried dozens different data preparing techniques, and wasn't able to reach the 80 mark. Very frustrating. The highest I could get was around 78. \n",
    "\n",
    "### Random forest shows the best results in algorithms comparison. Random forest does not require data transformations. No need to standardize or normalize.\n",
    "\n",
    "### Feature selection is necessary? Avoid overfitting, better predicting power?? It actually get a worse prediction on the LeaderBoard.\n",
    "\n",
    "### I started to focus on hyperparameter tuning. It took forever to tune the parameters. To my surprise, hyperparameter tuning was quite helpful, it bumped the score up to 79.4. The last few points are always the hardest. Took me a few days to bump up from around 77 to 79.426. Yet still fail to pass the 80. Dang!"
   ]
  },
  {
   "cell_type": "code",
   "execution_count": 1,
   "metadata": {
    "collapsed": true
   },
   "outputs": [],
   "source": [
    "import numpy as np\n",
    "import pandas as pd\n",
    "import matplotlib.pyplot as plt\n",
    "import seaborn as sns\n",
    "\n",
    "%matplotlib inline\n",
    "\n",
    "from sklearn.feature_selection import SelectKBest\n",
    "from sklearn.feature_selection import chi2\n",
    "\n",
    "from sklearn.model_selection import train_test_split\n",
    "from sklearn.model_selection import KFold\n",
    "from sklearn.model_selection import cross_val_score\n",
    "from sklearn.model_selection import GridSearchCV\n",
    "from sklearn.metrics import accuracy_score\n",
    "from sklearn.feature_selection import SelectFromModel\n",
    "\n",
    "from sklearn.tree import DecisionTreeClassifier\n",
    "from sklearn.ensemble import AdaBoostClassifier\n",
    "from sklearn.ensemble import RandomForestClassifier\n",
    "from sklearn.ensemble import ExtraTreesClassifier\n",
    "from sklearn.ensemble import BaggingClassifier"
   ]
  },
  {
   "cell_type": "code",
   "execution_count": 2,
   "metadata": {
    "collapsed": true
   },
   "outputs": [],
   "source": [
    "df = pd.read_csv('train.csv')\n",
    "df_test = pd.read_csv('test.csv')"
   ]
  },
  {
   "cell_type": "code",
   "execution_count": 3,
   "metadata": {},
   "outputs": [
    {
     "name": "stdout",
     "output_type": "stream",
     "text": [
      "<class 'pandas.core.frame.DataFrame'>\n",
      "RangeIndex: 891 entries, 0 to 890\n",
      "Data columns (total 12 columns):\n",
      "PassengerId    891 non-null int64\n",
      "Survived       891 non-null int64\n",
      "Pclass         891 non-null int64\n",
      "Name           891 non-null object\n",
      "Sex            891 non-null object\n",
      "Age            714 non-null float64\n",
      "SibSp          891 non-null int64\n",
      "Parch          891 non-null int64\n",
      "Ticket         891 non-null object\n",
      "Fare           891 non-null float64\n",
      "Cabin          204 non-null object\n",
      "Embarked       889 non-null object\n",
      "dtypes: float64(2), int64(5), object(5)\n",
      "memory usage: 83.6+ KB\n"
     ]
    }
   ],
   "source": [
    "df.info()"
   ]
  },
  {
   "cell_type": "code",
   "execution_count": 4,
   "metadata": {},
   "outputs": [
    {
     "name": "stdout",
     "output_type": "stream",
     "text": [
      "<class 'pandas.core.frame.DataFrame'>\n",
      "RangeIndex: 418 entries, 0 to 417\n",
      "Data columns (total 11 columns):\n",
      "PassengerId    418 non-null int64\n",
      "Pclass         418 non-null int64\n",
      "Name           418 non-null object\n",
      "Sex            418 non-null object\n",
      "Age            332 non-null float64\n",
      "SibSp          418 non-null int64\n",
      "Parch          418 non-null int64\n",
      "Ticket         418 non-null object\n",
      "Fare           417 non-null float64\n",
      "Cabin          91 non-null object\n",
      "Embarked       418 non-null object\n",
      "dtypes: float64(2), int64(4), object(5)\n",
      "memory usage: 36.0+ KB\n"
     ]
    }
   ],
   "source": [
    "df_test.info()"
   ]
  },
  {
   "cell_type": "code",
   "execution_count": 5,
   "metadata": {
    "collapsed": true
   },
   "outputs": [],
   "source": [
    "df['Embarked'].fillna('S',inplace=True)\n",
    "df_test['Fare'].fillna(df_test.Fare.median(),inplace=True)"
   ]
  },
  {
   "cell_type": "code",
   "execution_count": 6,
   "metadata": {
    "collapsed": true
   },
   "outputs": [],
   "source": [
    "def family_recode(data):\n",
    "    if data['Family'] == 0:\n",
    "        value = 'One'\n",
    "    elif 1<= data['Family'] <=3:\n",
    "        value = '2 to 4'\n",
    "    else:\n",
    "        value = 'Over 4'\n",
    "    return value"
   ]
  },
  {
   "cell_type": "code",
   "execution_count": 7,
   "metadata": {
    "collapsed": true
   },
   "outputs": [],
   "source": [
    "def child(row):\n",
    "    if row['Age'] < 16:\n",
    "        value = 1\n",
    "    else:\n",
    "        value = 0\n",
    "    return value"
   ]
  },
  {
   "cell_type": "code",
   "execution_count": 8,
   "metadata": {
    "collapsed": true
   },
   "outputs": [],
   "source": [
    "df['Age'] = df.groupby(['Sex', 'Pclass','Embarked'])['Age'].apply(lambda x: x.fillna(x.median()))\n",
    "df_test['Age'] = df_test.groupby(['Sex', 'Pclass','Embarked'])['Age'].apply(lambda x: x.fillna(x.median()))"
   ]
  },
  {
   "cell_type": "code",
   "execution_count": 9,
   "metadata": {
    "collapsed": true
   },
   "outputs": [],
   "source": [
    "## Name Title - crdit to Ahmed BESBES http://ahmedbesbes.com/how-to-score-08134-in-titanic-kaggle-challenge.html\n",
    "Title_Dictionary = { \n",
    "    \"Capt\":\"Officer\",\"Col\":\"Officer\", \"Major\":\"Officer\",\"Jonkheer\":\"Royalty\",\"Don\":\"Royalty\",\"Sir\":\"Royalty\",\n",
    "    \"Dr\":\"Officer\", \"Rev\":\"Officer\",\"the Countess\":\"Royalty\",\"Dona\":\"Royalty\",\"Mme\":\"Mrs\",\"Mlle\":\"Miss\",\"Ms\":\"Mrs\",\n",
    "    \"Mr\":\"Mr\",\"Mrs\":\"Mrs\",\"Miss\":\"Miss\",\"Master\":\"Master\",\"Lady\":\"Royalty\"\n",
    "                    }"
   ]
  },
  {
   "cell_type": "code",
   "execution_count": 10,
   "metadata": {
    "collapsed": true
   },
   "outputs": [],
   "source": [
    "def data_process(df_preprocess):\n",
    "    df_preprocess['Sex'] = [1 if i == 'male' else 0 for i in df_preprocess.Sex]\n",
    "    df_preprocess['Name_title'] = df_preprocess['Name'].apply(lambda name: name.split(',')[1].split('.')[0].strip())\n",
    "    df_preprocess['Name_title'] = df_preprocess['Name_title'].map(Title_Dictionary)\n",
    "    df_preprocess['Cabin_N'] = df_preprocess['Cabin'].astype('str').str[0]\n",
    "    df_preprocess['Family'] = df_preprocess['SibSp'] + df_preprocess['Parch']\n",
    "    df_preprocess['Family_group'] = df_preprocess.apply(family_recode, axis=1)\n",
    "    df_preprocess['Child'] = df_preprocess.apply(child, axis=1)\n",
    "    \n",
    "    Pclass_dummies = pd.get_dummies(df_preprocess.Pclass,prefix='Class')\n",
    "    Embarked_dummies = pd.get_dummies(df_preprocess.Embarked,prefix='Embarked')\n",
    "    Title_dummies = pd.get_dummies(df_preprocess.Name_title, prefix='Title')\n",
    "    Cabin_dummies = pd.get_dummies(df_preprocess.Cabin_N,prefix='Cabin')\n",
    "    Family_group_dummies = pd.get_dummies(df_preprocess.Family_group, prefix='Family')\n",
    "    \n",
    "    df_preprocess = pd.concat([df_preprocess,Pclass_dummies,Embarked_dummies,Family_group_dummies,Title_dummies,Cabin_dummies],axis=1)\n",
    "    df_preprocess.drop(['Pclass','Embarked','Ticket',\n",
    "                        'Family','SibSp','Parch','Family_group','Name','Cabin','Cabin_N','Name_title'],axis=1,inplace=True)\n",
    "    return df_preprocess"
   ]
  },
  {
   "cell_type": "code",
   "execution_count": 11,
   "metadata": {},
   "outputs": [],
   "source": [
    "df=data_process(df)\n",
    "df_test=data_process(df_test)"
   ]
  },
  {
   "cell_type": "code",
   "execution_count": 12,
   "metadata": {
    "collapsed": true
   },
   "outputs": [],
   "source": [
    "df.drop(['PassengerId','Cabin_T'],axis=1,inplace=True)"
   ]
  },
  {
   "cell_type": "raw",
   "metadata": {},
   "source": [
    "df.drop(['Name','Cabin'],axis=1,inplace=True)\n",
    "df_test.drop(['Name','Cabin'],axis=1,inplace=True)"
   ]
  },
  {
   "cell_type": "code",
   "execution_count": 13,
   "metadata": {
    "collapsed": true
   },
   "outputs": [],
   "source": [
    "X = df.iloc[:,1:]\n",
    "Y = df['Survived']"
   ]
  },
  {
   "cell_type": "raw",
   "metadata": {},
   "source": [
    "X_columns = X.columns\n",
    "model = SelectKBest(score_func=chi2)\n",
    "fit = model.fit(X, Y)\n",
    "df_features = pd.DataFrame(data=fit.scores_,index = X_columns,columns=['Score'])\n",
    "df_features.sort_values(by='Score',ascending=False)"
   ]
  },
  {
   "cell_type": "raw",
   "metadata": {
    "collapsed": true
   },
   "source": [
    "df.drop(['Title_Master','Class_2','Embarked_S','Cabin_F','Title_Royalty','Title_Officer','Cabin_A','Cabin_G','Embarked_Q'],axis=1,inplace=True)\n",
    "df_test.drop(['Title_Master','Class_2','Embarked_S','Cabin_F','Title_Royalty','Title_Officer','Cabin_A','Cabin_G','Embarked_Q'],axis=1,inplace=True)"
   ]
  },
  {
   "cell_type": "code",
   "execution_count": 14,
   "metadata": {
    "collapsed": true
   },
   "outputs": [],
   "source": [
    "seed = 7\n",
    "validation_size = 0.20\n",
    "num_folds = 10\n",
    "scoring = 'accuracy'"
   ]
  },
  {
   "cell_type": "code",
   "execution_count": 15,
   "metadata": {},
   "outputs": [
    {
     "data": {
      "text/plain": [
       "(891, 7)"
      ]
     },
     "execution_count": 15,
     "metadata": {},
     "output_type": "execute_result"
    }
   ],
   "source": [
    "model = RandomForestClassifier(max_depth= 2, max_features= 'sqrt', min_samples_leaf= 2, n_estimators= 50, n_jobs= -1,random_state=seed)\n",
    "model.fit(X,Y)\n",
    "best_feature = SelectFromModel(model, prefit=True)\n",
    "X_feature= best_feature.transform(X)\n",
    "X_feature.shape"
   ]
  },
  {
   "cell_type": "code",
   "execution_count": 16,
   "metadata": {},
   "outputs": [
    {
     "data": {
      "text/html": [
       "<div>\n",
       "<style>\n",
       "    .dataframe thead tr:only-child th {\n",
       "        text-align: right;\n",
       "    }\n",
       "\n",
       "    .dataframe thead th {\n",
       "        text-align: left;\n",
       "    }\n",
       "\n",
       "    .dataframe tbody tr th {\n",
       "        vertical-align: top;\n",
       "    }\n",
       "</style>\n",
       "<table border=\"1\" class=\"dataframe\">\n",
       "  <thead>\n",
       "    <tr style=\"text-align: right;\">\n",
       "      <th></th>\n",
       "      <th>Score</th>\n",
       "    </tr>\n",
       "  </thead>\n",
       "  <tbody>\n",
       "    <tr>\n",
       "      <th>Sex</th>\n",
       "      <td>0.281236</td>\n",
       "    </tr>\n",
       "    <tr>\n",
       "      <th>Title_Mr</th>\n",
       "      <td>0.229786</td>\n",
       "    </tr>\n",
       "    <tr>\n",
       "      <th>Title_Miss</th>\n",
       "      <td>0.123271</td>\n",
       "    </tr>\n",
       "    <tr>\n",
       "      <th>Class_3</th>\n",
       "      <td>0.079467</td>\n",
       "    </tr>\n",
       "    <tr>\n",
       "      <th>Fare</th>\n",
       "      <td>0.067033</td>\n",
       "    </tr>\n",
       "    <tr>\n",
       "      <th>Cabin_n</th>\n",
       "      <td>0.065749</td>\n",
       "    </tr>\n",
       "    <tr>\n",
       "      <th>Title_Mrs</th>\n",
       "      <td>0.059978</td>\n",
       "    </tr>\n",
       "    <tr>\n",
       "      <th>Family_2 to 4</th>\n",
       "      <td>0.021703</td>\n",
       "    </tr>\n",
       "    <tr>\n",
       "      <th>Family_Over 4</th>\n",
       "      <td>0.018984</td>\n",
       "    </tr>\n",
       "    <tr>\n",
       "      <th>Class_1</th>\n",
       "      <td>0.013953</td>\n",
       "    </tr>\n",
       "    <tr>\n",
       "      <th>Family_One</th>\n",
       "      <td>0.011837</td>\n",
       "    </tr>\n",
       "    <tr>\n",
       "      <th>Age</th>\n",
       "      <td>0.006888</td>\n",
       "    </tr>\n",
       "    <tr>\n",
       "      <th>Embarked_C</th>\n",
       "      <td>0.006009</td>\n",
       "    </tr>\n",
       "    <tr>\n",
       "      <th>Child</th>\n",
       "      <td>0.004944</td>\n",
       "    </tr>\n",
       "    <tr>\n",
       "      <th>Title_Master</th>\n",
       "      <td>0.003230</td>\n",
       "    </tr>\n",
       "    <tr>\n",
       "      <th>Cabin_E</th>\n",
       "      <td>0.002374</td>\n",
       "    </tr>\n",
       "    <tr>\n",
       "      <th>Cabin_B</th>\n",
       "      <td>0.001730</td>\n",
       "    </tr>\n",
       "    <tr>\n",
       "      <th>Cabin_D</th>\n",
       "      <td>0.000804</td>\n",
       "    </tr>\n",
       "    <tr>\n",
       "      <th>Class_2</th>\n",
       "      <td>0.000655</td>\n",
       "    </tr>\n",
       "    <tr>\n",
       "      <th>Embarked_S</th>\n",
       "      <td>0.000371</td>\n",
       "    </tr>\n",
       "    <tr>\n",
       "      <th>Embarked_Q</th>\n",
       "      <td>0.000000</td>\n",
       "    </tr>\n",
       "    <tr>\n",
       "      <th>Title_Officer</th>\n",
       "      <td>0.000000</td>\n",
       "    </tr>\n",
       "    <tr>\n",
       "      <th>Title_Royalty</th>\n",
       "      <td>0.000000</td>\n",
       "    </tr>\n",
       "    <tr>\n",
       "      <th>Cabin_A</th>\n",
       "      <td>0.000000</td>\n",
       "    </tr>\n",
       "    <tr>\n",
       "      <th>Cabin_C</th>\n",
       "      <td>0.000000</td>\n",
       "    </tr>\n",
       "    <tr>\n",
       "      <th>Cabin_F</th>\n",
       "      <td>0.000000</td>\n",
       "    </tr>\n",
       "    <tr>\n",
       "      <th>Cabin_G</th>\n",
       "      <td>0.000000</td>\n",
       "    </tr>\n",
       "  </tbody>\n",
       "</table>\n",
       "</div>"
      ],
      "text/plain": [
       "                  Score\n",
       "Sex            0.281236\n",
       "Title_Mr       0.229786\n",
       "Title_Miss     0.123271\n",
       "Class_3        0.079467\n",
       "Fare           0.067033\n",
       "Cabin_n        0.065749\n",
       "Title_Mrs      0.059978\n",
       "Family_2 to 4  0.021703\n",
       "Family_Over 4  0.018984\n",
       "Class_1        0.013953\n",
       "Family_One     0.011837\n",
       "Age            0.006888\n",
       "Embarked_C     0.006009\n",
       "Child          0.004944\n",
       "Title_Master   0.003230\n",
       "Cabin_E        0.002374\n",
       "Cabin_B        0.001730\n",
       "Cabin_D        0.000804\n",
       "Class_2        0.000655\n",
       "Embarked_S     0.000371\n",
       "Embarked_Q     0.000000\n",
       "Title_Officer  0.000000\n",
       "Title_Royalty  0.000000\n",
       "Cabin_A        0.000000\n",
       "Cabin_C        0.000000\n",
       "Cabin_F        0.000000\n",
       "Cabin_G        0.000000"
      ]
     },
     "execution_count": 16,
     "metadata": {},
     "output_type": "execute_result"
    }
   ],
   "source": [
    "X_columns = X.columns\n",
    "df_features = pd.DataFrame(data=model.feature_importances_,index = X_columns,columns=['Score'])\n",
    "df_features.sort_values(by='Score',ascending=False)"
   ]
  },
  {
   "cell_type": "code",
   "execution_count": 17,
   "metadata": {
    "collapsed": true
   },
   "outputs": [],
   "source": [
    "X_test = df_test.iloc[:,1:]"
   ]
  },
  {
   "cell_type": "code",
   "execution_count": 18,
   "metadata": {},
   "outputs": [
    {
     "data": {
      "text/plain": [
       "(418, 7)"
      ]
     },
     "execution_count": 18,
     "metadata": {},
     "output_type": "execute_result"
    }
   ],
   "source": [
    "X_test_feature = best_feature.transform(X_test)\n",
    "X_test_feature.shape"
   ]
  },
  {
   "cell_type": "code",
   "execution_count": 19,
   "metadata": {
    "collapsed": true
   },
   "outputs": [],
   "source": [
    "from sklearn.model_selection import train_test_split\n",
    "X_train, X_validation, Y_train, Y_validation = train_test_split(X_feature, Y, test_size=validation_size, random_state=seed)"
   ]
  },
  {
   "cell_type": "code",
   "execution_count": 20,
   "metadata": {},
   "outputs": [
    {
     "name": "stdout",
     "output_type": "stream",
     "text": [
      "Best: 0.834270 using {'max_depth': 6, 'max_features': 'sqrt', 'min_samples_leaf': 2, 'n_estimators': 200, 'n_jobs': -1}\n"
     ]
    }
   ],
   "source": [
    "RandomForestClassifier\n",
    "model = RandomForestClassifier(random_state=seed)\n",
    "kfold = KFold(n_splits=num_folds, random_state=seed)\n",
    "parameters = {'max_features': ['sqrt', 'auto', 'log2'],\n",
    "              'max_depth':[2,6,10,35],\n",
    "              'n_estimators':[50,150,200,250,300],\n",
    "              'min_samples_leaf': [2,10,25,50,60],\n",
    "              'n_jobs':[-1] }\n",
    "clf = GridSearchCV(estimator=model, param_grid=parameters,scoring=scoring,cv=kfold)\n",
    "grid_result=clf.fit(X_train,Y_train)\n",
    "print(\"Best: %f using %s\" % (grid_result.best_score_, grid_result.best_params_))"
   ]
  },
  {
   "cell_type": "code",
   "execution_count": 21,
   "metadata": {},
   "outputs": [
    {
     "data": {
      "text/plain": [
       "0.79329608938547491"
      ]
     },
     "execution_count": 21,
     "metadata": {},
     "output_type": "execute_result"
    }
   ],
   "source": [
    "model = RandomForestClassifier(max_depth= 6, max_features= 'sqrt', min_samples_leaf= 2, n_estimators= 200, n_jobs= -1)\n",
    "model.fit(X_train,Y_train)\n",
    "pred = model.predict(X_validation)\n",
    "accuracy_score(Y_validation,pred)"
   ]
  },
  {
   "cell_type": "code",
   "execution_count": 22,
   "metadata": {
    "collapsed": true
   },
   "outputs": [],
   "source": [
    "model = RandomForestClassifier(max_depth= 6, max_features= 'sqrt', min_samples_leaf= 2, n_estimators= 200, n_jobs= -1)\n",
    "model.fit(X_train,Y_train)\n",
    "pred = model.predict(X_test_feature)\n",
    "df_test['Survived'] = pred\n",
    "df_submitted = df_test[['PassengerId','Survived']]\n",
    "df_submitted.to_csv('final.csv',index=False)"
   ]
  },
  {
   "cell_type": "markdown",
   "metadata": {
    "collapsed": true
   },
   "source": [
    "<img src=\"files/image.png\">"
   ]
  }
 ],
 "metadata": {
  "kernelspec": {
   "display_name": "Python 3",
   "language": "python",
   "name": "python3"
  },
  "language_info": {
   "codemirror_mode": {
    "name": "ipython",
    "version": 3
   },
   "file_extension": ".py",
   "mimetype": "text/x-python",
   "name": "python",
   "nbconvert_exporter": "python",
   "pygments_lexer": "ipython3",
   "version": "3.6.1"
  }
 },
 "nbformat": 4,
 "nbformat_minor": 2
}
